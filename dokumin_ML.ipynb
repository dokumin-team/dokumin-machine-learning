{
 "cells": [
  {
   "cell_type": "code",
   "execution_count": 18,
   "metadata": {},
   "outputs": [
    {
     "name": "stdout",
     "output_type": "stream",
     "text": [
      "Found 1323 images belonging to 4 classes.\n",
      "Found 329 images belonging to 4 classes.\n",
      "Epoch 1/10\n",
      "\u001b[1m42/42\u001b[0m \u001b[32m━━━━━━━━━━━━━━━━━━━━\u001b[0m\u001b[37m\u001b[0m \u001b[1m18s\u001b[0m 359ms/step - accuracy: 0.7446 - loss: 0.7249 - val_accuracy: 0.9392 - val_loss: 0.2167\n",
      "Epoch 2/10\n",
      "\u001b[1m42/42\u001b[0m \u001b[32m━━━━━━━━━━━━━━━━━━━━\u001b[0m\u001b[37m\u001b[0m \u001b[1m14s\u001b[0m 337ms/step - accuracy: 0.9060 - loss: 0.2546 - val_accuracy: 0.9392 - val_loss: 0.1249\n",
      "Epoch 3/10\n",
      "\u001b[1m42/42\u001b[0m \u001b[32m━━━━━━━━━━━━━━━━━━━━\u001b[0m\u001b[37m\u001b[0m \u001b[1m14s\u001b[0m 339ms/step - accuracy: 0.9292 - loss: 0.1996 - val_accuracy: 0.9635 - val_loss: 0.0689\n",
      "Epoch 4/10\n",
      "\u001b[1m42/42\u001b[0m \u001b[32m━━━━━━━━━━━━━━━━━━━━\u001b[0m\u001b[37m\u001b[0m \u001b[1m14s\u001b[0m 340ms/step - accuracy: 0.9413 - loss: 0.1578 - val_accuracy: 0.9878 - val_loss: 0.0446\n",
      "Epoch 5/10\n",
      "\u001b[1m42/42\u001b[0m \u001b[32m━━━━━━━━━━━━━━━━━━━━\u001b[0m\u001b[37m\u001b[0m \u001b[1m14s\u001b[0m 337ms/step - accuracy: 0.9871 - loss: 0.0444 - val_accuracy: 0.9605 - val_loss: 0.1116\n",
      "Epoch 6/10\n",
      "\u001b[1m42/42\u001b[0m \u001b[32m━━━━━━━━━━━━━━━━━━━━\u001b[0m\u001b[37m\u001b[0m \u001b[1m14s\u001b[0m 337ms/step - accuracy: 0.9731 - loss: 0.0979 - val_accuracy: 0.9818 - val_loss: 0.0561\n",
      "Epoch 7/10\n",
      "\u001b[1m42/42\u001b[0m \u001b[32m━━━━━━━━━━━━━━━━━━━━\u001b[0m\u001b[37m\u001b[0m \u001b[1m14s\u001b[0m 337ms/step - accuracy: 0.9920 - loss: 0.0298 - val_accuracy: 0.9818 - val_loss: 0.0552\n",
      "Epoch 8/10\n",
      "\u001b[1m42/42\u001b[0m \u001b[32m━━━━━━━━━━━━━━━━━━━━\u001b[0m\u001b[37m\u001b[0m \u001b[1m14s\u001b[0m 339ms/step - accuracy: 0.9819 - loss: 0.0396 - val_accuracy: 0.9757 - val_loss: 0.0715\n",
      "Epoch 9/10\n",
      "\u001b[1m42/42\u001b[0m \u001b[32m━━━━━━━━━━━━━━━━━━━━\u001b[0m\u001b[37m\u001b[0m \u001b[1m18s\u001b[0m 414ms/step - accuracy: 0.9925 - loss: 0.0302 - val_accuracy: 0.9605 - val_loss: 0.1072\n",
      "Epoch 10/10\n",
      "\u001b[1m42/42\u001b[0m \u001b[32m━━━━━━━━━━━━━━━━━━━━\u001b[0m\u001b[37m\u001b[0m \u001b[1m15s\u001b[0m 353ms/step - accuracy: 0.9923 - loss: 0.0250 - val_accuracy: 0.9939 - val_loss: 0.0166\n"
     ]
    },
    {
     "name": "stderr",
     "output_type": "stream",
     "text": [
      "WARNING:absl:You are saving your model as an HDF5 file via `model.save()` or `keras.saving.save_model(model)`. This file format is considered legacy. We recommend using instead the native Keras format, e.g. `model.save('my_model.keras')` or `keras.saving.save_model(model, 'my_model.keras')`. \n"
     ]
    }
   ],
   "source": [
    "import tensorflow as tf\n",
    "from tensorflow.keras.preprocessing.image import ImageDataGenerator\n",
    "from tensorflow.keras import layers, models\n",
    "import os\n",
    "import numpy as np\n",
    "\n",
    "# Path ke folder dataset\n",
    "dataset_path = \"./dataset\"\n",
    "\n",
    "# Parameter dasar\n",
    "image_size = (150, 150)  # Ukuran gambar\n",
    "batch_size = 32          # Ukuran batch\n",
    "\n",
    "# Data Augmentation dan Load Data\n",
    "datagen = ImageDataGenerator(\n",
    "    rescale=1.0 / 255,  # Normalisasi nilai pixel\n",
    "    validation_split=0.2  # Membagi dataset untuk training dan validasi\n",
    ")\n",
    "\n",
    "train_generator = datagen.flow_from_directory(\n",
    "    dataset_path,\n",
    "    target_size=image_size,\n",
    "    batch_size=batch_size,\n",
    "    class_mode=\"categorical\",\n",
    "    subset=\"training\"\n",
    ")\n",
    "\n",
    "validation_generator = datagen.flow_from_directory(\n",
    "    dataset_path,\n",
    "    target_size=image_size,\n",
    "    batch_size=batch_size,\n",
    "    class_mode=\"categorical\",\n",
    "    subset=\"validation\"\n",
    ")\n",
    "\n",
    "# Membuat Model\n",
    "model = models.Sequential([\n",
    "    layers.Conv2D(32, (3, 3), activation='relu', input_shape=(150, 150, 3)),\n",
    "    layers.MaxPooling2D((2, 2)),\n",
    "    layers.Conv2D(64, (3, 3), activation='relu'),\n",
    "    layers.MaxPooling2D((2, 2)),\n",
    "    layers.Conv2D(128, (3, 3), activation='relu'),\n",
    "    layers.MaxPooling2D((2, 2)),\n",
    "    layers.Flatten(),\n",
    "    layers.Dense(128, activation='relu'),\n",
    "    layers.Dense(len(train_generator.class_indices), activation='softmax')\n",
    "])\n",
    "\n",
    "# Kompilasi Model\n",
    "model.compile(optimizer='adam',\n",
    "              loss='categorical_crossentropy',\n",
    "              metrics=['accuracy'])\n",
    "\n",
    "# Melatih Model\n",
    "epochs = 10  # Ubah sesuai kebutuhan\n",
    "history = model.fit(\n",
    "    train_generator,\n",
    "    epochs=epochs,\n",
    "    validation_data=validation_generator\n",
    ")\n",
    "\n",
    "# Simpan Model\n",
    "model.save(\"document_classifier.h5\")\n"
   ]
  },
  {
   "cell_type": "code",
   "execution_count": 19,
   "metadata": {},
   "outputs": [],
   "source": [
    "# Fungsi untuk Klasifikasi Gambar Baru\n",
    "def classify_image(image_path):\n",
    "    from tensorflow.keras.preprocessing.image import load_img, img_to_array\n",
    "\n",
    "    # Load gambar\n",
    "    img = load_img(image_path, target_size=image_size)\n",
    "    img_array = img_to_array(img) / 255.0\n",
    "    img_array = np.expand_dims(img_array, axis=0)\n",
    "\n",
    "    # Prediksi\n",
    "    predictions = model.predict(img_array)\n",
    "    class_indices = train_generator.class_indices\n",
    "    class_names = {v: k for k, v in class_indices.items()}  # Membalik indeks\n",
    "\n",
    "    # Identifikasi Kelas\n",
    "    predicted_class = np.argmax(predictions, axis=1)[0]\n",
    "    confidence = np.max(predictions)\n",
    "\n",
    "    # Logika untuk klasifikasi \"Other\" jika confidence rendah\n",
    "    if confidence < 0.8:  # Threshold dapat disesuaikan\n",
    "        return \"Other\", confidence\n",
    "    else:\n",
    "        return class_names[predicted_class], confidence"
   ]
  },
  {
   "cell_type": "code",
   "execution_count": null,
   "metadata": {},
   "outputs": [
    {
     "name": "stdout",
     "output_type": "stream",
     "text": [
      "\u001b[1m1/1\u001b[0m \u001b[32m━━━━━━━━━━━━━━━━━━━━\u001b[0m\u001b[37m\u001b[0m \u001b[1m0s\u001b[0m 44ms/step\n",
      "Kelas: SIM, Confidence: 1.00\n"
     ]
    }
   ],
   "source": [
    "# Contoh Penggunaan\n",
    "image_path = \"./ktp1.jpg\"\n",
    "predicted_class, confidence = classify_image(image_path)\n",
    "print(f\"Kelas: {predicted_class}, Confidence: {confidence:.2f}\")"
   ]
  }
 ],
 "metadata": {
  "kernelspec": {
   "display_name": "Python 3",
   "language": "python",
   "name": "python3"
  },
  "language_info": {
   "codemirror_mode": {
    "name": "ipython",
    "version": 3
   },
   "file_extension": ".py",
   "mimetype": "text/x-python",
   "name": "python",
   "nbconvert_exporter": "python",
   "pygments_lexer": "ipython3",
   "version": "3.12.0"
  }
 },
 "nbformat": 4,
 "nbformat_minor": 2
}
