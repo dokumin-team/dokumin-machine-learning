{
 "cells": [
  {
   "cell_type": "code",
   "execution_count": 2,
   "metadata": {},
   "outputs": [
    {
     "name": "stdout",
     "output_type": "stream",
     "text": [
      "Shapes before training:\n",
      "X_train shape: (665, 256, 256, 3)\n",
      "y_train shape: (665, 4)\n",
      "X_valid shape: (63, 256, 256, 3)\n",
      "y_valid shape: (63, 4)\n",
      "X_test shape: (15, 256, 256, 3)\n",
      "y_test shape: (15, 4)\n"
     ]
    },
    {
     "data": {
      "text/html": [
       "<pre style=\"white-space:pre;overflow-x:auto;line-height:normal;font-family:Menlo,'DejaVu Sans Mono',consolas,'Courier New',monospace\"><span style=\"font-weight: bold\">Model: \"model_klasifikasi\"</span>\n",
       "</pre>\n"
      ],
      "text/plain": [
       "\u001b[1mModel: \"model_klasifikasi\"\u001b[0m\n"
      ]
     },
     "metadata": {},
     "output_type": "display_data"
    },
    {
     "data": {
      "text/html": [
       "<pre style=\"white-space:pre;overflow-x:auto;line-height:normal;font-family:Menlo,'DejaVu Sans Mono',consolas,'Courier New',monospace\">┏━━━━━━━━━━━━━━━━━━━━━━━━━━━━━━━━━┳━━━━━━━━━━━━━━━━━━━━━━━━┳━━━━━━━━━━━━━━━┓\n",
       "┃<span style=\"font-weight: bold\"> Layer (type)                    </span>┃<span style=\"font-weight: bold\"> Output Shape           </span>┃<span style=\"font-weight: bold\">       Param # </span>┃\n",
       "┡━━━━━━━━━━━━━━━━━━━━━━━━━━━━━━━━━╇━━━━━━━━━━━━━━━━━━━━━━━━╇━━━━━━━━━━━━━━━┩\n",
       "│ input_layer_1 (<span style=\"color: #0087ff; text-decoration-color: #0087ff\">InputLayer</span>)      │ (<span style=\"color: #00d7ff; text-decoration-color: #00d7ff\">None</span>, <span style=\"color: #00af00; text-decoration-color: #00af00\">256</span>, <span style=\"color: #00af00; text-decoration-color: #00af00\">256</span>, <span style=\"color: #00af00; text-decoration-color: #00af00\">3</span>)    │             <span style=\"color: #00af00; text-decoration-color: #00af00\">0</span> │\n",
       "├─────────────────────────────────┼────────────────────────┼───────────────┤\n",
       "│ conv2d_1 (<span style=\"color: #0087ff; text-decoration-color: #0087ff\">Conv2D</span>)               │ (<span style=\"color: #00d7ff; text-decoration-color: #00d7ff\">None</span>, <span style=\"color: #00af00; text-decoration-color: #00af00\">254</span>, <span style=\"color: #00af00; text-decoration-color: #00af00\">254</span>, <span style=\"color: #00af00; text-decoration-color: #00af00\">32</span>)   │           <span style=\"color: #00af00; text-decoration-color: #00af00\">896</span> │\n",
       "├─────────────────────────────────┼────────────────────────┼───────────────┤\n",
       "│ max_pooling2d_1 (<span style=\"color: #0087ff; text-decoration-color: #0087ff\">MaxPooling2D</span>)  │ (<span style=\"color: #00d7ff; text-decoration-color: #00d7ff\">None</span>, <span style=\"color: #00af00; text-decoration-color: #00af00\">127</span>, <span style=\"color: #00af00; text-decoration-color: #00af00\">127</span>, <span style=\"color: #00af00; text-decoration-color: #00af00\">32</span>)   │             <span style=\"color: #00af00; text-decoration-color: #00af00\">0</span> │\n",
       "├─────────────────────────────────┼────────────────────────┼───────────────┤\n",
       "│ flatten_1 (<span style=\"color: #0087ff; text-decoration-color: #0087ff\">Flatten</span>)             │ (<span style=\"color: #00d7ff; text-decoration-color: #00d7ff\">None</span>, <span style=\"color: #00af00; text-decoration-color: #00af00\">516128</span>)         │             <span style=\"color: #00af00; text-decoration-color: #00af00\">0</span> │\n",
       "├─────────────────────────────────┼────────────────────────┼───────────────┤\n",
       "│ dense_2 (<span style=\"color: #0087ff; text-decoration-color: #0087ff\">Dense</span>)                 │ (<span style=\"color: #00d7ff; text-decoration-color: #00d7ff\">None</span>, <span style=\"color: #00af00; text-decoration-color: #00af00\">128</span>)            │    <span style=\"color: #00af00; text-decoration-color: #00af00\">66,064,512</span> │\n",
       "├─────────────────────────────────┼────────────────────────┼───────────────┤\n",
       "│ dense_3 (<span style=\"color: #0087ff; text-decoration-color: #0087ff\">Dense</span>)                 │ (<span style=\"color: #00d7ff; text-decoration-color: #00d7ff\">None</span>, <span style=\"color: #00af00; text-decoration-color: #00af00\">4</span>)              │           <span style=\"color: #00af00; text-decoration-color: #00af00\">516</span> │\n",
       "└─────────────────────────────────┴────────────────────────┴───────────────┘\n",
       "</pre>\n"
      ],
      "text/plain": [
       "┏━━━━━━━━━━━━━━━━━━━━━━━━━━━━━━━━━┳━━━━━━━━━━━━━━━━━━━━━━━━┳━━━━━━━━━━━━━━━┓\n",
       "┃\u001b[1m \u001b[0m\u001b[1mLayer (type)                   \u001b[0m\u001b[1m \u001b[0m┃\u001b[1m \u001b[0m\u001b[1mOutput Shape          \u001b[0m\u001b[1m \u001b[0m┃\u001b[1m \u001b[0m\u001b[1m      Param #\u001b[0m\u001b[1m \u001b[0m┃\n",
       "┡━━━━━━━━━━━━━━━━━━━━━━━━━━━━━━━━━╇━━━━━━━━━━━━━━━━━━━━━━━━╇━━━━━━━━━━━━━━━┩\n",
       "│ input_layer_1 (\u001b[38;5;33mInputLayer\u001b[0m)      │ (\u001b[38;5;45mNone\u001b[0m, \u001b[38;5;34m256\u001b[0m, \u001b[38;5;34m256\u001b[0m, \u001b[38;5;34m3\u001b[0m)    │             \u001b[38;5;34m0\u001b[0m │\n",
       "├─────────────────────────────────┼────────────────────────┼───────────────┤\n",
       "│ conv2d_1 (\u001b[38;5;33mConv2D\u001b[0m)               │ (\u001b[38;5;45mNone\u001b[0m, \u001b[38;5;34m254\u001b[0m, \u001b[38;5;34m254\u001b[0m, \u001b[38;5;34m32\u001b[0m)   │           \u001b[38;5;34m896\u001b[0m │\n",
       "├─────────────────────────────────┼────────────────────────┼───────────────┤\n",
       "│ max_pooling2d_1 (\u001b[38;5;33mMaxPooling2D\u001b[0m)  │ (\u001b[38;5;45mNone\u001b[0m, \u001b[38;5;34m127\u001b[0m, \u001b[38;5;34m127\u001b[0m, \u001b[38;5;34m32\u001b[0m)   │             \u001b[38;5;34m0\u001b[0m │\n",
       "├─────────────────────────────────┼────────────────────────┼───────────────┤\n",
       "│ flatten_1 (\u001b[38;5;33mFlatten\u001b[0m)             │ (\u001b[38;5;45mNone\u001b[0m, \u001b[38;5;34m516128\u001b[0m)         │             \u001b[38;5;34m0\u001b[0m │\n",
       "├─────────────────────────────────┼────────────────────────┼───────────────┤\n",
       "│ dense_2 (\u001b[38;5;33mDense\u001b[0m)                 │ (\u001b[38;5;45mNone\u001b[0m, \u001b[38;5;34m128\u001b[0m)            │    \u001b[38;5;34m66,064,512\u001b[0m │\n",
       "├─────────────────────────────────┼────────────────────────┼───────────────┤\n",
       "│ dense_3 (\u001b[38;5;33mDense\u001b[0m)                 │ (\u001b[38;5;45mNone\u001b[0m, \u001b[38;5;34m4\u001b[0m)              │           \u001b[38;5;34m516\u001b[0m │\n",
       "└─────────────────────────────────┴────────────────────────┴───────────────┘\n"
      ]
     },
     "metadata": {},
     "output_type": "display_data"
    },
    {
     "data": {
      "text/html": [
       "<pre style=\"white-space:pre;overflow-x:auto;line-height:normal;font-family:Menlo,'DejaVu Sans Mono',consolas,'Courier New',monospace\"><span style=\"font-weight: bold\"> Total params: </span><span style=\"color: #00af00; text-decoration-color: #00af00\">66,065,924</span> (252.02 MB)\n",
       "</pre>\n"
      ],
      "text/plain": [
       "\u001b[1m Total params: \u001b[0m\u001b[38;5;34m66,065,924\u001b[0m (252.02 MB)\n"
      ]
     },
     "metadata": {},
     "output_type": "display_data"
    },
    {
     "data": {
      "text/html": [
       "<pre style=\"white-space:pre;overflow-x:auto;line-height:normal;font-family:Menlo,'DejaVu Sans Mono',consolas,'Courier New',monospace\"><span style=\"font-weight: bold\"> Trainable params: </span><span style=\"color: #00af00; text-decoration-color: #00af00\">66,065,924</span> (252.02 MB)\n",
       "</pre>\n"
      ],
      "text/plain": [
       "\u001b[1m Trainable params: \u001b[0m\u001b[38;5;34m66,065,924\u001b[0m (252.02 MB)\n"
      ]
     },
     "metadata": {},
     "output_type": "display_data"
    },
    {
     "data": {
      "text/html": [
       "<pre style=\"white-space:pre;overflow-x:auto;line-height:normal;font-family:Menlo,'DejaVu Sans Mono',consolas,'Courier New',monospace\"><span style=\"font-weight: bold\"> Non-trainable params: </span><span style=\"color: #00af00; text-decoration-color: #00af00\">0</span> (0.00 B)\n",
       "</pre>\n"
      ],
      "text/plain": [
       "\u001b[1m Non-trainable params: \u001b[0m\u001b[38;5;34m0\u001b[0m (0.00 B)\n"
      ]
     },
     "metadata": {},
     "output_type": "display_data"
    },
    {
     "name": "stdout",
     "output_type": "stream",
     "text": [
      "Epoch 1/10\n",
      "\u001b[1m21/21\u001b[0m \u001b[32m━━━━━━━━━━━━━━━━━━━━\u001b[0m\u001b[37m\u001b[0m \u001b[1m22s\u001b[0m 990ms/step - accuracy: 0.3158 - loss: 13862.3506 - val_accuracy: 0.2698 - val_loss: 650.3393\n",
      "Epoch 2/10\n",
      "\u001b[1m21/21\u001b[0m \u001b[32m━━━━━━━━━━━━━━━━━━━━\u001b[0m\u001b[37m\u001b[0m \u001b[1m21s\u001b[0m 988ms/step - accuracy: 0.3675 - loss: 389.3449 - val_accuracy: 0.5079 - val_loss: 106.3849\n",
      "Epoch 3/10\n",
      "\u001b[1m21/21\u001b[0m \u001b[32m━━━━━━━━━━━━━━━━━━━━\u001b[0m\u001b[37m\u001b[0m \u001b[1m21s\u001b[0m 986ms/step - accuracy: 0.6763 - loss: 83.4345 - val_accuracy: 0.8413 - val_loss: 20.9771\n",
      "Epoch 4/10\n",
      "\u001b[1m21/21\u001b[0m \u001b[32m━━━━━━━━━━━━━━━━━━━━\u001b[0m\u001b[37m\u001b[0m \u001b[1m21s\u001b[0m 981ms/step - accuracy: 0.8780 - loss: 6.5435 - val_accuracy: 0.8730 - val_loss: 5.5562\n",
      "Epoch 5/10\n",
      "\u001b[1m21/21\u001b[0m \u001b[32m━━━━━━━━━━━━━━━━━━━━\u001b[0m\u001b[37m\u001b[0m \u001b[1m21s\u001b[0m 976ms/step - accuracy: 0.8805 - loss: 3.9908 - val_accuracy: 0.8095 - val_loss: 17.5012\n",
      "Epoch 6/10\n",
      "\u001b[1m21/21\u001b[0m \u001b[32m━━━━━━━━━━━━━━━━━━━━\u001b[0m\u001b[37m\u001b[0m \u001b[1m21s\u001b[0m 982ms/step - accuracy: 0.9653 - loss: 1.2780 - val_accuracy: 0.8889 - val_loss: 4.5932\n",
      "Epoch 7/10\n",
      "\u001b[1m21/21\u001b[0m \u001b[32m━━━━━━━━━━━━━━━━━━━━\u001b[0m\u001b[37m\u001b[0m \u001b[1m20s\u001b[0m 967ms/step - accuracy: 0.9781 - loss: 0.2196 - val_accuracy: 0.8889 - val_loss: 5.5605\n",
      "Epoch 8/10\n",
      "\u001b[1m21/21\u001b[0m \u001b[32m━━━━━━━━━━━━━━━━━━━━\u001b[0m\u001b[37m\u001b[0m \u001b[1m21s\u001b[0m 980ms/step - accuracy: 0.9980 - loss: 0.0265 - val_accuracy: 0.9206 - val_loss: 3.0691\n",
      "Epoch 9/10\n",
      "\u001b[1m21/21\u001b[0m \u001b[32m━━━━━━━━━━━━━━━━━━━━\u001b[0m\u001b[37m\u001b[0m \u001b[1m20s\u001b[0m 973ms/step - accuracy: 1.0000 - loss: 1.8519e-04 - val_accuracy: 0.9048 - val_loss: 4.6654\n",
      "Epoch 10/10\n",
      "\u001b[1m21/21\u001b[0m \u001b[32m━━━━━━━━━━━━━━━━━━━━\u001b[0m\u001b[37m\u001b[0m \u001b[1m21s\u001b[0m 981ms/step - accuracy: 1.0000 - loss: 9.6208e-04 - val_accuracy: 0.9048 - val_loss: 4.5293\n",
      "\u001b[1m1/1\u001b[0m \u001b[32m━━━━━━━━━━━━━━━━━━━━\u001b[0m\u001b[37m\u001b[0m \u001b[1m0s\u001b[0m 76ms/step - accuracy: 0.9333 - loss: 2.0078\n",
      "Test Loss: 2.0077784061431885\n",
      "Test Accuracy: 0.9333333373069763\n"
     ]
    }
   ],
   "source": [
    "import os\n",
    "import cv2\n",
    "import numpy as np\n",
    "import tensorflow as tf\n",
    "from tensorflow.keras.models import Model\n",
    "from tensorflow.keras.layers import Input, Conv2D, MaxPooling2D, Flatten, Dense\n",
    "\n",
    "# Fungsi untuk mengurai XML Pascal VOC\n",
    "def parse_voc_xml(xml_path):\n",
    "    import xml.etree.ElementTree as ET\n",
    "    tree = ET.parse(xml_path)\n",
    "    root = tree.getroot()\n",
    "    \n",
    "    objects = []\n",
    "    for obj in root.findall('object'):\n",
    "        name = obj.find('name').text\n",
    "        objects.append((name,))\n",
    "    return objects\n",
    "\n",
    "# Fungsi untuk memuat dataset\n",
    "def load_dataset(dataset_dir, subset):\n",
    "    images = []\n",
    "    labels = []\n",
    "    label_map = {'document': 0, 'KTP': 1, 'KK': 2, 'SIM': 3}  # Pemetaan label ke angka\n",
    "    folder_path = os.path.join(dataset_dir, subset)\n",
    "    for file in os.listdir(folder_path):\n",
    "        if file.endswith(\".xml\"):\n",
    "            xml_path = os.path.join(folder_path, file)\n",
    "            objects = parse_voc_xml(xml_path)\n",
    "            if len(objects) > 0:  # Pastikan file XML memiliki objek\n",
    "                image_name = file.replace(\".xml\", \"\") + \".jpg\"  # Asumsi file gambar memiliki nama yang sama dengan file XML\n",
    "                image_path = os.path.join(folder_path, image_name)\n",
    "                if os.path.exists(image_path):\n",
    "                    img = cv2.imread(image_path)\n",
    "                    if img is not None:\n",
    "                        img = cv2.resize(img, (256, 256))\n",
    "                        images.append(img)\n",
    "                        labels.append(label_map[objects[0][0]])  # Konversi label string ke angka\n",
    "                    else:\n",
    "                        print(f\"[Warning] Gambar tidak dapat dibaca: {image_path}\")\n",
    "                else:\n",
    "                    print(f\"[Warning] Path gambar tidak ditemukan: {image_path}\")\n",
    "    return np.array(images), np.array(labels)\n",
    "\n",
    "# Membuat model CNN\n",
    "def create_model():\n",
    "    input_layer = Input(shape=(256, 256, 3))\n",
    "    x = Conv2D(32, (3, 3), activation='relu')(input_layer)\n",
    "    x = MaxPooling2D((2, 2))(x)\n",
    "    x = Flatten()(x)\n",
    "    x = Dense(128, activation='relu')(x)\n",
    "    output = Dense(4, activation='softmax')(x)  # Sesuaikan jumlah kelas\n",
    "    model = Model(inputs=input_layer, outputs=output, name=\"model_klasifikasi\")\n",
    "    return model\n",
    "\n",
    "# Memuat dataset dari folder\n",
    "dataset_dir = \"./dataset\"\n",
    "X_train, y_train = load_dataset(dataset_dir, \"train\")\n",
    "X_valid, y_valid = load_dataset(dataset_dir, \"valid\")\n",
    "X_test, y_test = load_dataset(dataset_dir, \"test\")\n",
    "\n",
    "# Konversi labels menjadi one-hot encoding\n",
    "y_train = tf.keras.utils.to_categorical(y_train, num_classes=4)\n",
    "y_valid = tf.keras.utils.to_categorical(y_valid, num_classes=4)\n",
    "y_test = tf.keras.utils.to_categorical(y_test, num_classes=4)\n",
    "\n",
    "# Memastikan dimensi dataset sebelum melatih\n",
    "print(\"Shapes before training:\")\n",
    "print(\"X_train shape:\", X_train.shape)  # Harus (batch_size, 256, 256, 3)\n",
    "print(\"y_train shape:\", y_train.shape)  # Harus (batch_size, num_classes)\n",
    "print(\"X_valid shape:\", X_valid.shape)  # Harus (batch_size, 256, 256, 3)\n",
    "print(\"y_valid shape:\", y_valid.shape)  # Harus (batch_size, num_classes)\n",
    "print(\"X_test shape:\", X_test.shape)   # Harus (batch_size, 256, 256, 3)\n",
    "print(\"y_test shape:\", y_test.shape)   # Harus (batch_size, num_classes)\n",
    "\n",
    "# Membuat model\n",
    "model = create_model()\n",
    "\n",
    "# Menyusun model\n",
    "model.compile(optimizer='adam', loss='categorical_crossentropy', metrics=['accuracy'])\n",
    "\n",
    "# Menampilkan ringkasan model\n",
    "model.summary()\n",
    "\n",
    "# Melatih model\n",
    "history = model.fit(X_train, y_train, epochs=10, validation_data=(X_valid, y_valid), batch_size=32)\n",
    "\n",
    "# Mengevaluasi model\n",
    "loss, accuracy = model.evaluate(X_test, y_test)\n",
    "print(f\"Test Loss: {loss}\")\n",
    "print(f\"Test Accuracy: {accuracy}\")\n"
   ]
  },
  {
   "cell_type": "code",
   "execution_count": 52,
   "metadata": {},
   "outputs": [
    {
     "name": "stderr",
     "output_type": "stream",
     "text": [
      "WARNING:absl:You are saving your model as an HDF5 file via `model.save()` or `keras.saving.save_model(model)`. This file format is considered legacy. We recommend using instead the native Keras format, e.g. `model.save('my_model.keras')` or `keras.saving.save_model(model, 'my_model.keras')`. \n"
     ]
    },
    {
     "name": "stdout",
     "output_type": "stream",
     "text": [
      "Model saved to model_klasifikasi.h5\n"
     ]
    }
   ],
   "source": [
    "# Menyimpan model ke file .h5\n",
    "model.save('model_klasifikasi.h5')\n",
    "print(\"Model saved to model_klasifikasi.h5\")"
   ]
  },
  {
   "cell_type": "code",
   "execution_count": 4,
   "metadata": {},
   "outputs": [
    {
     "name": "stdout",
     "output_type": "stream",
     "text": [
      "INFO:tensorflow:Assets written to: C:\\Users\\ACER\\AppData\\Local\\Temp\\tmp7gaqinn3\\assets\n"
     ]
    },
    {
     "name": "stderr",
     "output_type": "stream",
     "text": [
      "INFO:tensorflow:Assets written to: C:\\Users\\ACER\\AppData\\Local\\Temp\\tmp7gaqinn3\\assets\n"
     ]
    },
    {
     "name": "stdout",
     "output_type": "stream",
     "text": [
      "Saved artifact at 'C:\\Users\\ACER\\AppData\\Local\\Temp\\tmp7gaqinn3'. The following endpoints are available:\n",
      "\n",
      "* Endpoint 'serve'\n",
      "  args_0 (POSITIONAL_ONLY): TensorSpec(shape=(None, 256, 256, 3), dtype=tf.float32, name='keras_tensor_6')\n",
      "Output Type:\n",
      "  TensorSpec(shape=(None, 4), dtype=tf.float32, name=None)\n",
      "Captures:\n",
      "  2494059051728: TensorSpec(shape=(), dtype=tf.resource, name=None)\n",
      "  2494059050768: TensorSpec(shape=(), dtype=tf.resource, name=None)\n",
      "  2494910318544: TensorSpec(shape=(), dtype=tf.resource, name=None)\n",
      "  2494910319888: TensorSpec(shape=(), dtype=tf.resource, name=None)\n",
      "  2494910318736: TensorSpec(shape=(), dtype=tf.resource, name=None)\n",
      "  2494910331216: TensorSpec(shape=(), dtype=tf.resource, name=None)\n",
      "Model berhasil disimpan sebagai model_klasifikasi.tflite\n"
     ]
    }
   ],
   "source": [
    "# Mengonversi model ke format .tflite\n",
    "def save_tflite_model(model, output_path):\n",
    "    converter = tf.lite.TFLiteConverter.from_keras_model(model)\n",
    "    tflite_model = converter.convert()\n",
    "    with open(output_path, 'wb') as f:\n",
    "        f.write(tflite_model)\n",
    "    print(f\"Model berhasil disimpan sebagai {output_path}\")\n",
    "\n",
    "# Simpan model ke dalam file .tflite\n",
    "save_tflite_model(model, \"model_klasifikasi.tflite\")"
   ]
  },
  {
   "cell_type": "code",
   "execution_count": 5,
   "metadata": {},
   "outputs": [
    {
     "data": {
      "image/png": "[encoded data removed]",
      "text/plain": [
       "<Figure size 1200x500 with 2 Axes>"
      ]
     },
     "metadata": {},
     "output_type": "display_data"
    }
   ],
   "source": [
    "import matplotlib.pyplot as plt\n",
    "\n",
    "# Memvisualisasikan hasil pelatihan\n",
    "def plot_training_history(history):\n",
    "    # Plot akurasi\n",
    "    plt.figure(figsize=(12, 5))\n",
    "    plt.subplot(1, 2, 1)\n",
    "    plt.plot(history.history['accuracy'], label='Train Accuracy')\n",
    "    plt.plot(history.history['val_accuracy'], label='Validation Accuracy')\n",
    "    plt.title('Training and Validation Accuracy')\n",
    "    plt.xlabel('Epoch')\n",
    "    plt.ylabel('Accuracy')\n",
    "    plt.legend()\n",
    "\n",
    "    # Plot loss\n",
    "    plt.subplot(1, 2, 2)\n",
    "    plt.plot(history.history['loss'], label='Train Loss')\n",
    "    plt.plot(history.history['val_loss'], label='Validation Loss')\n",
    "    plt.title('Training and Validation Loss')\n",
    "    plt.xlabel('Epoch')\n",
    "    plt.ylabel('Loss')\n",
    "    plt.legend()\n",
    "\n",
    "    plt.tight_layout()\n",
    "    plt.show()\n",
    "\n",
    "# Panggil fungsi untuk menampilkan plot\n",
    "plot_training_history(history)"
   ]
  },
  {
   "cell_type": "code",
   "execution_count": null,
   "metadata": {},
   "outputs": [],
   "source": [
    "import tensorflow as tf\n",
    "import cv2\n",
    "import numpy as np\n",
    "\n",
    "# Fungsi untuk memuat model .h5\n",
    "def load_h5_model(h5_path):\n",
    "    model = tf.keras.models.load_model(h5_path)\n",
    "    return model\n",
    "\n",
    "# Fungsi untuk melakukan preprocessing pada gambar\n",
    "def preprocess_image(image_path):\n",
    "    img = cv2.imread(image_path)\n",
    "    if img is None:\n",
    "        raise ValueError(f\"Gambar tidak dapat dibaca dari path: {image_path}\")\n",
    "    img = cv2.resize(img, (256, 256))\n",
    "    img = img.astype('float32') / 255.0\n",
    "    img = np.expand_dims(img, axis=0)\n",
    "    return img\n",
    "\n",
    "# Fungsi untuk menjalankan prediksi menggunakan model .h5\n",
    "def predict_image(h5_model_path, image_path, label_map):\n",
    "    # Memuat model .h5\n",
    "    model = load_h5_model(h5_model_path)\n",
    "\n",
    "    # Preprocessing gambar\n",
    "    input_data = preprocess_image(image_path)\n",
    "\n",
    "    # Jalankan prediksi\n",
    "    output_data = model.predict(input_data)\n",
    "    predicted_label = np.argmax(output_data)\n",
    "    confidence = np.max(output_data)\n",
    "\n",
    "    # Tampilkan hasil\n",
    "    label_name = [k for k, v in label_map.items() if v == predicted_label][0]\n",
    "    print(f\"Prediksi: {label_name} (Confidence: {confidence:.2f})\")"
   ]
  },
  {
   "cell_type": "code",
   "execution_count": 51,
   "metadata": {},
   "outputs": [
    {
     "name": "stderr",
     "output_type": "stream",
     "text": [
      "WARNING:absl:Compiled the loaded model, but the compiled metrics have yet to be built. `model.compile_metrics` will be empty until you train or evaluate the model.\n"
     ]
    },
    {
     "name": "stdout",
     "output_type": "stream",
     "text": [
      "\u001b[1m1/1\u001b[0m \u001b[32m━━━━━━━━━━━━━━━━━━━━\u001b[0m\u001b[37m\u001b[0m \u001b[1m0s\u001b[0m 97ms/step\n",
      "Prediksi: KTP (Confidence: 0.85)\n"
     ]
    }
   ],
   "source": [
    "\n",
    "# Label mapping (sama dengan yang digunakan saat melatih model)\n",
    "label_map = {'document': 0, 'KTP': 1, 'KK': 2, 'SIM': 3}\n",
    "\n",
    "# Path model .h5 dan gambar\n",
    "h5_model_path = \"model_klasifikasi.h5\"  # Ganti dengan path model Anda\n",
    "image_path = \"./dataset/test/IMG-20221219-WA0048_jpg.rf.4d90fad32af2a050d70bd3e9f6ee65dc.jpg\"  # Ganti dengan path gambar yang ingin diuji\n",
    "\n",
    "# Jalankan prediksi\n",
    "predict_image(h5_model_path, image_path, label_map)"
   ]
  }
 ],
 "metadata": {
  "kernelspec": {
   "display_name": "Python 3",
   "language": "python",
   "name": "python3"
  },
  "language_info": {
   "codemirror_mode": {
    "name": "ipython",
    "version": 3
   },
   "file_extension": ".py",
   "mimetype": "text/x-python",
   "name": "python",
   "nbconvert_exporter": "python",
   "pygments_lexer": "ipython3",
   "version": "3.12.0"
  }
 },
 "nbformat": 4,
 "nbformat_minor": 2
}
