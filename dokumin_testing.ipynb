{
 "cells": [
  {
   "cell_type": "code",
   "execution_count": 11,
   "metadata": {},
   "outputs": [
    {
     "name": "stderr",
     "output_type": "stream",
     "text": [
      "WARNING:absl:Compiled the loaded model, but the compiled metrics have yet to be built. `model.compile_metrics` will be empty until you train or evaluate the model.\n"
     ]
    },
    {
     "name": "stdout",
     "output_type": "stream",
     "text": [
      "Found 1323 images belonging to 4 classes.\n",
      "\u001b[1m1/1\u001b[0m \u001b[32m━━━━━━━━━━━━━━━━━━━━\u001b[0m\u001b[37m\u001b[0m \u001b[1m0s\u001b[0m 111ms/step\n",
      "Kelas: KK, Confidence: 1.00\n"
     ]
    }
   ],
   "source": [
    "import tensorflow as tf\n",
    "import numpy as np\n",
    "from tensorflow.keras.preprocessing.image import load_img, img_to_array\n",
    "\n",
    "# Parameter dasar\n",
    "image_size = (150, 150)  # Sesuaikan dengan ukuran gambar saat pelatihan\n",
    "\n",
    "# Load model yang telah disimpan\n",
    "model = tf.keras.models.load_model(\"document_classifier.h5\")\n",
    "\n",
    "# Fungsi untuk memuat class indices dari model sebelumnya\n",
    "def load_class_indices(train_generator_path=\"./dataset\"):\n",
    "    from tensorflow.keras.preprocessing.image import ImageDataGenerator\n",
    "    \n",
    "    datagen = ImageDataGenerator(rescale=1.0 / 255, validation_split=0.2)\n",
    "    train_generator = datagen.flow_from_directory(\n",
    "        train_generator_path,\n",
    "        target_size=image_size,\n",
    "        batch_size=32,\n",
    "        class_mode=\"categorical\",\n",
    "        subset=\"training\"\n",
    "    )\n",
    "    return train_generator.class_indices\n",
    "\n",
    "# Mendapatkan class_indices\n",
    "class_indices = load_class_indices()\n",
    "class_names = {v: k for k, v in class_indices.items()}  # Membalik indeks\n",
    "\n",
    "# Fungsi untuk Klasifikasi Gambar Baru\n",
    "def classify_image(image_path):\n",
    "    # Load gambar\n",
    "    img = load_img(image_path, target_size=image_size)\n",
    "    img_array = img_to_array(img) / 255.0\n",
    "    img_array = np.expand_dims(img_array, axis=0)\n",
    "\n",
    "    # Prediksi\n",
    "    predictions = model.predict(img_array)\n",
    "    predicted_class = np.argmax(predictions, axis=1)[0]\n",
    "    confidence = np.max(predictions)\n",
    "\n",
    "    # Logika untuk klasifikasi \"Other\" jika confidence rendah\n",
    "    if confidence < 0.8:  # Threshold dapat disesuaikan\n",
    "        return \"Other\", confidence\n",
    "    else:\n",
    "        return class_names[predicted_class], confidence\n",
    "\n",
    "# Contoh Penggunaan\n",
    "image_path = \"./testing/sim2.png\"  # Path ke gambar uji\n",
    "predicted_class, confidence = classify_image(image_path)\n",
    "print(f\"Kelas: {predicted_class}, Confidence: {confidence:.2f}\")"
   ]
  }
 ],
 "metadata": {
  "kernelspec": {
   "display_name": "Python 3",
   "language": "python",
   "name": "python3"
  },
  "language_info": {
   "codemirror_mode": {
    "name": "ipython",
    "version": 3
   },
   "file_extension": ".py",
   "mimetype": "text/x-python",
   "name": "python",
   "nbconvert_exporter": "python",
   "pygments_lexer": "ipython3",
   "version": "3.12.0"
  }
 },
 "nbformat": 4,
 "nbformat_minor": 2
}
